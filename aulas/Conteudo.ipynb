{
 "cells": [
  {
   "cell_type": "markdown",
   "metadata": {},
   "source": [
    "# Criação de Tabelas"
   ]
  },
  {
   "cell_type": "code",
   "execution_count": null,
   "metadata": {
    "vscode": {
     "languageId": "sql"
    }
   },
   "outputs": [],
   "source": [
    "-- Criando a tabela 'equipe' que armazena dados das equipes de corrida\n",
    "CREATE TABLE equipe (\n",
    "    idequipe SERIAL NOT NULL PRIMARY KEY,\n",
    "    nomeequipe VARCHAR(50) NOT NULL,\n",
    "    paisequipe VARCHAR(50),\n",
    "    motorequipe VARCHAR(50)\n",
    ");\n",
    "\n",
    "-- Criando a tabela 'piloto' que armazena informações dos pilotos\n",
    "CREATE TABLE piloto (\n",
    "    idpiloto SERIAL NOT NULL PRIMARY KEY,\n",
    "    nomepiloto VARCHAR(50) NOT NULL,\n",
    "    datanascimento DATE,\n",
    "    paispiloto VARCHAR(50),\n",
    "    idequipe INT REFERENCES equipe(idequipe)  -- Relacionamento com equipe\n",
    ");\n",
    "\n",
    "-- Criando a tabela 'corrida' que armazena dados sobre as corridas\n",
    "CREATE TABLE corrida (\n",
    "    idcorrida SERIAL NOT NULL PRIMARY KEY,\n",
    "    localcorrida VARCHAR(50) NOT NULL\n",
    ");\n",
    "\n",
    "-- Criando a tabela 'classificacao' que registra a classificação dos pilotos em cada corrida\n",
    "CREATE TABLE classificacao (\n",
    "    idclassificacao SERIAL NOT NULL PRIMARY KEY,\n",
    "    idpiloto INT NOT NULL REFERENCES piloto(idpiloto),  -- Relacionamento com piloto\n",
    "    idcorrida INT NOT NULL REFERENCES corrida(idcorrida),  -- Relacionamento com corrida\n",
    "    posicaochegada INT\n",
    ");\n"
   ]
  },
  {
   "cell_type": "markdown",
   "metadata": {},
   "source": [
    "Estas tabelas foram criadas com tipos de dados específicos e chaves primárias (PRIMARY KEY) e estrangeiras (REFERENCES) para garantir a integridade referencial."
   ]
  },
  {
   "cell_type": "markdown",
   "metadata": {},
   "source": [
    "# Inserção de Dados"
   ]
  },
  {
   "cell_type": "code",
   "execution_count": null,
   "metadata": {
    "vscode": {
     "languageId": "sql"
    }
   },
   "outputs": [],
   "source": [
    "-- Inserindo dados de exemplo na tabela 'equipe'\n",
    "INSERT INTO equipe (nomeequipe, paisequipe, motorequipe) VALUES \n",
    "('Red Racing', 'Alemanha', 'Motor-X'),\n",
    "('Blue Racing', 'França', 'Motor-Y');\n",
    "\n",
    "-- Inserindo dados de exemplo na tabela 'piloto'\n",
    "INSERT INTO piloto (nomepiloto, datanascimento, paispiloto, idequipe) VALUES \n",
    "('Carlos Santos', '1995-04-10', 'Brasil', 1),\n",
    "('Jean Dupont', '1988-06-20', 'França', 2);\n",
    "\n",
    "-- Inserindo dados de exemplo na tabela 'corrida'\n",
    "INSERT INTO corrida (localcorrida) VALUES \n",
    "('Interlagos'),\n",
    "('Monaco');\n",
    "\n",
    "-- Inserindo dados de exemplo na tabela 'classificacao'\n",
    "INSERT INTO classificacao (idpiloto, idcorrida, posicaochegada) VALUES \n",
    "(1, 1, 1),\n",
    "(2, 1, 2),\n",
    "(1, 2, 3),\n",
    "(2, 2, 1);\n"
   ]
  },
  {
   "cell_type": "markdown",
   "metadata": {},
   "source": [
    "# Consultas"
   ]
  },
  {
   "cell_type": "code",
   "execution_count": null,
   "metadata": {
    "vscode": {
     "languageId": "sql"
    }
   },
   "outputs": [],
   "source": [
    "-- Selecionando todas as colunas de uma tabela\n",
    "SELECT * FROM equipe;\n",
    "\n",
    "-- Selecionando colunas específicas\n",
    "SELECT nomepiloto, paispiloto FROM piloto;\n",
    "\n",
    "-- Usando a cláusula WHERE para filtrar\n",
    "SELECT * FROM piloto WHERE paispiloto = 'França';\n",
    "\n",
    "-- Ordenação com ORDER BY\n",
    "SELECT * FROM classificacao ORDER BY posicaochegada;\n"
   ]
  },
  {
   "cell_type": "markdown",
   "metadata": {},
   "source": [
    "# Exemplos de JOIN entre Tabelas"
   ]
  },
  {
   "cell_type": "code",
   "execution_count": null,
   "metadata": {
    "vscode": {
     "languageId": "sql"
    }
   },
   "outputs": [],
   "source": [
    "-- INNER JOIN para combinar piloto com equipe\n",
    "SELECT nomepiloto, nomeequipe\n",
    "FROM piloto\n",
    "JOIN equipe ON piloto.idequipe = equipe.idequipe;\n",
    "\n",
    "-- LEFT JOIN para listar todas as equipes com ou sem pilotos\n",
    "SELECT nomeequipe, nomepiloto\n",
    "FROM equipe\n",
    "LEFT JOIN piloto ON equipe.idequipe = piloto.idequipe;\n"
   ]
  },
  {
   "cell_type": "markdown",
   "metadata": {},
   "source": [
    "# Funções Agregadas e Agrupamento"
   ]
  },
  {
   "cell_type": "code",
   "execution_count": null,
   "metadata": {
    "vscode": {
     "languageId": "sql"
    }
   },
   "outputs": [],
   "source": [
    "-- Contagem de pilotos por país\n",
    "SELECT paispiloto, COUNT(*) AS numero_pilotos\n",
    "FROM piloto\n",
    "GROUP BY paispiloto;\n",
    "\n",
    "-- Média de posição de chegada por piloto\n",
    "SELECT nomepiloto, AVG(posicaochegada) AS media_posicao\n",
    "FROM piloto\n",
    "JOIN classificacao ON piloto.idpiloto = classificacao.idpiloto\n",
    "GROUP BY nomepiloto;\n"
   ]
  },
  {
   "cell_type": "markdown",
   "metadata": {},
   "source": [
    "## Operador `LIKE` para Pesquisas com Padrões\n",
    "\n",
    "No PostgreSQL, o operador `LIKE` permite realizar buscas com padrões em colunas de texto, e usa caracteres curingas:\n",
    "\n",
    "- `%`: representa zero ou mais caracteres.\n",
    "- `_`: representa um único caractere.\n",
    "\n",
    "Aqui estão alguns exemplos de uso:\n",
    "\n",
    "1. **Buscar por valores que começam com uma letra específica**\n",
    "\n",
    "   Se quisermos encontrar todas as equipes cujo nome começa com \"R\":\n",
    "\n",
    "   ```sql\n",
    "   SELECT * FROM equipe WHERE nomeequipe LIKE 'R%';\n",
    "   ```\n",
    "\n",
    "   Neste caso, `'R%'` representa qualquer valor que comece com \"R\" e tenha zero ou mais caracteres após ela.\n",
    "\n",
    "2. **Buscar por valores que terminam com uma sequência específica**\n",
    "\n",
    "   Para encontrar pilotos cujos nomes terminem em \"santos\":\n",
    "\n",
    "   ```sql\n",
    "   SELECT * FROM piloto WHERE nomepiloto LIKE '%santos';\n",
    "   ```\n",
    "\n",
    "   O padrão `'%santos'` buscará valores que terminem com \"santos\".\n",
    "\n",
    "3. **Buscar por valores que contêm uma sequência específica em qualquer posição**\n",
    "\n",
    "   Para localizar equipes que tenham a palavra \"Racing\" em qualquer lugar do nome:\n",
    "\n",
    "   ```sql\n",
    "   SELECT * FROM equipe WHERE nomeequipe LIKE '%Racing%';\n",
    "   ```\n",
    "\n",
    "   Neste caso, `'%Racing%'` encontra qualquer valor que contenha \"Racing\" em qualquer posição.\n",
    "\n",
    "4. **Usar o caractere sublinhado (`_`) para especificar posições exatas**\n",
    "\n",
    "   Para buscar por equipes cujos nomes tenham exatamente 6 letras, onde a primeira letra seja \"B\":\n",
    "\n",
    "   ```sql\n",
    "   SELECT * FROM equipe WHERE nomeequipe LIKE 'B_____';\n",
    "   ```\n",
    "\n",
    "   O padrão `'B_____'` indica que o nome deve começar com \"B\" e ter exatamente cinco caracteres após.\n",
    "\n",
    "### Exemplo de Uso com `ILIKE`\n",
    "\n",
    "No PostgreSQL, existe também o operador `ILIKE`, que é uma variação de `LIKE`, mas que ignora diferenciação entre maiúsculas e minúsculas. Por exemplo:\n",
    "\n",
    "```sql\n",
    "SELECT * FROM piloto WHERE nomepiloto ILIKE '%jean%';\n",
    "```"
   ]
  },
  {
   "cell_type": "markdown",
   "metadata": {},
   "source": [
    "# Atualização de Dados"
   ]
  },
  {
   "cell_type": "code",
   "execution_count": null,
   "metadata": {
    "vscode": {
     "languageId": "sql"
    }
   },
   "outputs": [],
   "source": [
    "-- Atualizando o país de uma equipe\n",
    "UPDATE equipe SET paisequipe = 'EUA' WHERE nomeequipe = 'Red Racing';\n",
    "\n",
    "-- Atualizando a posição de chegada de um piloto\n",
    "UPDATE classificacao SET posicaochegada = 2 WHERE idclassificacao = 1;"
   ]
  },
  {
   "cell_type": "markdown",
   "metadata": {},
   "source": [
    "# Exclusão de Dados"
   ]
  },
  {
   "cell_type": "code",
   "execution_count": null,
   "metadata": {
    "vscode": {
     "languageId": "sql"
    }
   },
   "outputs": [],
   "source": [
    "-- Deletando uma classificação específica\n",
    "DELETE FROM classificacao WHERE idclassificacao = 4;\n",
    "\n",
    "-- Deletando uma equipe sem registros relacionados (ou após exclusão em cascata)\n",
    "DELETE FROM equipe WHERE nomeequipe = 'Blue Racing';\n"
   ]
  },
  {
   "cell_type": "markdown",
   "metadata": {},
   "source": [
    "# Exclusão de Tabelas"
   ]
  },
  {
   "cell_type": "code",
   "execution_count": null,
   "metadata": {
    "vscode": {
     "languageId": "sql"
    }
   },
   "outputs": [],
   "source": [
    "-- Excluindo a tabela 'classificacao' (atenção: todos os dados serão perdidos)\n",
    "DROP TABLE classificacao;\n",
    "\n",
    "-- Excluindo todas as tabelas na ordem correta para evitar conflitos de chave estrangeira\n",
    "DROP TABLE piloto;\n",
    "DROP TABLE corrida;\n",
    "DROP TABLE equipe;\n"
   ]
  }
 ],
 "metadata": {
  "language_info": {
   "name": "python"
  }
 },
 "nbformat": 4,
 "nbformat_minor": 2
}
